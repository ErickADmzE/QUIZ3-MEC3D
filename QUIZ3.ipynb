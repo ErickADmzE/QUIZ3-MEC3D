{
 "cells": [
  {
   "cell_type": "markdown",
   "metadata": {},
   "source": [
    "## Linear regression"
   ]
  },
  {
   "cell_type": "code",
   "execution_count": 26,
   "metadata": {},
   "outputs": [
    {
     "name": "stdout",
     "output_type": "stream",
     "text": [
      "The sum of xiyi is 53258\n",
      "The sum of xi is 707\n",
      "The sum of yi is 658\n",
      "The total elements of x is 9\n",
      "The total elements of y is 9\n",
      "Bi is equal to 0.7771415987667915\n",
      "Bo is equal to 12.062321074653166\n",
      "The linear regression is -53.99471482052411\n",
      "Thanks for using us\n"
     ]
    }
   ],
   "source": [
    "n = 9 \n",
    "xiyi = 77*82+50*66+71*78+72*34+81*47+94*85+96*99+99*99+67*68\n",
    "xi = 77+50+71+72+81+94+96+99+67\n",
    "yi = 82+66+78+34+47+85+99+99+68\n",
    "xisquared = 77*77+50*50+71*71+72*72+81*81+94*94+96*96+99*99+67*67\n",
    "xihigh = xi*xi\n",
    "Bi = ((n*xiyi)-(xi*yi))/((n*xisquared)-xihigh)\n",
    "Bo = (yi-(Bi*xi))/n\n",
    "x = 85\n",
    "Y = Bo-Bi*x\n",
    "print(\"The sum of xiyi is\",xiyi)\n",
    "print(\"The sum of xi is\",xi)\n",
    "print(\"The sum of yi is\",yi)\n",
    "print(\"The total elements of x is\",n)\n",
    "print(\"The total elements of y is\",n)\n",
    "print(\"Bi is equal to\",Bi)\n",
    "print(\"Bo is equal to\",Bo)\n",
    "print(\"The linear regression is\",Y)\n",
    "print(\"Thanks for using us\")"
   ]
  },
  {
   "cell_type": "code",
   "execution_count": null,
   "metadata": {},
   "outputs": [],
   "source": [
    "\n"
   ]
  }
 ],
 "metadata": {
  "kernelspec": {
   "display_name": "Python 3",
   "language": "python",
   "name": "python3"
  },
  "language_info": {
   "codemirror_mode": {
    "name": "ipython",
    "version": 3
   },
   "file_extension": ".py",
   "mimetype": "text/x-python",
   "name": "python",
   "nbconvert_exporter": "python",
   "pygments_lexer": "ipython3",
   "version": "3.7.3"
  }
 },
 "nbformat": 4,
 "nbformat_minor": 2
}
